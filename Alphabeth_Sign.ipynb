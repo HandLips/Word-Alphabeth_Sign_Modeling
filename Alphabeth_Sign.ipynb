{
  "cells": [
    {
      "cell_type": "markdown",
      "source": [
        "INSTALL PACKAGE"
      ],
      "metadata": {
        "id": "CZffqFbsbOyc"
      }
    },
    {
      "cell_type": "code",
      "execution_count": null,
      "metadata": {
        "colab": {
          "base_uri": "https://localhost:8080/"
        },
        "id": "UmckoWeGOEVf",
        "outputId": "9a691352-6d48-45ab-edf6-e0f1fa9e4c15"
      },
      "outputs": [
        {
          "name": "stdout",
          "output_type": "stream",
          "text": [
            "Requirement already satisfied: tensorflow in /usr/local/lib/python3.10/dist-packages (2.17.1)\n",
            "Requirement already satisfied: absl-py>=1.0.0 in /usr/local/lib/python3.10/dist-packages (from tensorflow) (1.4.0)\n",
            "Requirement already satisfied: astunparse>=1.6.0 in /usr/local/lib/python3.10/dist-packages (from tensorflow) (1.6.3)\n",
            "Requirement already satisfied: flatbuffers>=24.3.25 in /usr/local/lib/python3.10/dist-packages (from tensorflow) (24.3.25)\n",
            "Requirement already satisfied: gast!=0.5.0,!=0.5.1,!=0.5.2,>=0.2.1 in /usr/local/lib/python3.10/dist-packages (from tensorflow) (0.6.0)\n",
            "Requirement already satisfied: google-pasta>=0.1.1 in /usr/local/lib/python3.10/dist-packages (from tensorflow) (0.2.0)\n",
            "Requirement already satisfied: h5py>=3.10.0 in /usr/local/lib/python3.10/dist-packages (from tensorflow) (3.12.1)\n",
            "Requirement already satisfied: libclang>=13.0.0 in /usr/local/lib/python3.10/dist-packages (from tensorflow) (18.1.1)\n",
            "Requirement already satisfied: ml-dtypes<0.5.0,>=0.3.1 in /usr/local/lib/python3.10/dist-packages (from tensorflow) (0.4.1)\n",
            "Requirement already satisfied: opt-einsum>=2.3.2 in /usr/local/lib/python3.10/dist-packages (from tensorflow) (3.4.0)\n",
            "Requirement already satisfied: packaging in /usr/local/lib/python3.10/dist-packages (from tensorflow) (24.2)\n",
            "Requirement already satisfied: protobuf!=4.21.0,!=4.21.1,!=4.21.2,!=4.21.3,!=4.21.4,!=4.21.5,<5.0.0dev,>=3.20.3 in /usr/local/lib/python3.10/dist-packages (from tensorflow) (4.25.5)\n",
            "Requirement already satisfied: requests<3,>=2.21.0 in /usr/local/lib/python3.10/dist-packages (from tensorflow) (2.32.3)\n",
            "Requirement already satisfied: setuptools in /usr/local/lib/python3.10/dist-packages (from tensorflow) (75.1.0)\n",
            "Requirement already satisfied: six>=1.12.0 in /usr/local/lib/python3.10/dist-packages (from tensorflow) (1.16.0)\n",
            "Requirement already satisfied: termcolor>=1.1.0 in /usr/local/lib/python3.10/dist-packages (from tensorflow) (2.5.0)\n",
            "Requirement already satisfied: typing-extensions>=3.6.6 in /usr/local/lib/python3.10/dist-packages (from tensorflow) (4.12.2)\n",
            "Requirement already satisfied: wrapt>=1.11.0 in /usr/local/lib/python3.10/dist-packages (from tensorflow) (1.17.0)\n",
            "Requirement already satisfied: grpcio<2.0,>=1.24.3 in /usr/local/lib/python3.10/dist-packages (from tensorflow) (1.68.1)\n",
            "Requirement already satisfied: tensorboard<2.18,>=2.17 in /usr/local/lib/python3.10/dist-packages (from tensorflow) (2.17.1)\n",
            "Requirement already satisfied: keras>=3.2.0 in /usr/local/lib/python3.10/dist-packages (from tensorflow) (3.5.0)\n",
            "Requirement already satisfied: tensorflow-io-gcs-filesystem>=0.23.1 in /usr/local/lib/python3.10/dist-packages (from tensorflow) (0.37.1)\n",
            "Requirement already satisfied: numpy<2.0.0,>=1.23.5 in /usr/local/lib/python3.10/dist-packages (from tensorflow) (1.26.4)\n",
            "Requirement already satisfied: wheel<1.0,>=0.23.0 in /usr/local/lib/python3.10/dist-packages (from astunparse>=1.6.0->tensorflow) (0.45.1)\n",
            "Requirement already satisfied: rich in /usr/local/lib/python3.10/dist-packages (from keras>=3.2.0->tensorflow) (13.9.4)\n",
            "Requirement already satisfied: namex in /usr/local/lib/python3.10/dist-packages (from keras>=3.2.0->tensorflow) (0.0.8)\n",
            "Requirement already satisfied: optree in /usr/local/lib/python3.10/dist-packages (from keras>=3.2.0->tensorflow) (0.13.1)\n",
            "Requirement already satisfied: charset-normalizer<4,>=2 in /usr/local/lib/python3.10/dist-packages (from requests<3,>=2.21.0->tensorflow) (3.4.0)\n",
            "Requirement already satisfied: idna<4,>=2.5 in /usr/local/lib/python3.10/dist-packages (from requests<3,>=2.21.0->tensorflow) (3.10)\n",
            "Requirement already satisfied: urllib3<3,>=1.21.1 in /usr/local/lib/python3.10/dist-packages (from requests<3,>=2.21.0->tensorflow) (2.2.3)\n",
            "Requirement already satisfied: certifi>=2017.4.17 in /usr/local/lib/python3.10/dist-packages (from requests<3,>=2.21.0->tensorflow) (2024.8.30)\n",
            "Requirement already satisfied: markdown>=2.6.8 in /usr/local/lib/python3.10/dist-packages (from tensorboard<2.18,>=2.17->tensorflow) (3.7)\n",
            "Requirement already satisfied: tensorboard-data-server<0.8.0,>=0.7.0 in /usr/local/lib/python3.10/dist-packages (from tensorboard<2.18,>=2.17->tensorflow) (0.7.2)\n",
            "Requirement already satisfied: werkzeug>=1.0.1 in /usr/local/lib/python3.10/dist-packages (from tensorboard<2.18,>=2.17->tensorflow) (3.1.3)\n",
            "Requirement already satisfied: MarkupSafe>=2.1.1 in /usr/local/lib/python3.10/dist-packages (from werkzeug>=1.0.1->tensorboard<2.18,>=2.17->tensorflow) (3.0.2)\n",
            "Requirement already satisfied: markdown-it-py>=2.2.0 in /usr/local/lib/python3.10/dist-packages (from rich->keras>=3.2.0->tensorflow) (3.0.0)\n",
            "Requirement already satisfied: pygments<3.0.0,>=2.13.0 in /usr/local/lib/python3.10/dist-packages (from rich->keras>=3.2.0->tensorflow) (2.18.0)\n",
            "Requirement already satisfied: mdurl~=0.1 in /usr/local/lib/python3.10/dist-packages (from markdown-it-py>=2.2.0->rich->keras>=3.2.0->tensorflow) (0.1.2)\n"
          ]
        }
      ],
      "source": [
        "pip install tensorflow"
      ]
    },
    {
      "cell_type": "code",
      "execution_count": null,
      "metadata": {
        "colab": {
          "base_uri": "https://localhost:8080/"
        },
        "id": "lWVjc_3yOHOX",
        "outputId": "95d34401-da09-4888-9118-d31ce98a95e1"
      },
      "outputs": [
        {
          "name": "stdout",
          "output_type": "stream",
          "text": [
            "Requirement already satisfied: keras in /usr/local/lib/python3.10/dist-packages (3.5.0)\n",
            "Requirement already satisfied: absl-py in /usr/local/lib/python3.10/dist-packages (from keras) (1.4.0)\n",
            "Requirement already satisfied: numpy in /usr/local/lib/python3.10/dist-packages (from keras) (1.26.4)\n",
            "Requirement already satisfied: rich in /usr/local/lib/python3.10/dist-packages (from keras) (13.9.4)\n",
            "Requirement already satisfied: namex in /usr/local/lib/python3.10/dist-packages (from keras) (0.0.8)\n",
            "Requirement already satisfied: h5py in /usr/local/lib/python3.10/dist-packages (from keras) (3.12.1)\n",
            "Requirement already satisfied: optree in /usr/local/lib/python3.10/dist-packages (from keras) (0.13.1)\n",
            "Requirement already satisfied: ml-dtypes in /usr/local/lib/python3.10/dist-packages (from keras) (0.4.1)\n",
            "Requirement already satisfied: packaging in /usr/local/lib/python3.10/dist-packages (from keras) (24.2)\n",
            "Requirement already satisfied: typing-extensions>=4.5.0 in /usr/local/lib/python3.10/dist-packages (from optree->keras) (4.12.2)\n",
            "Requirement already satisfied: markdown-it-py>=2.2.0 in /usr/local/lib/python3.10/dist-packages (from rich->keras) (3.0.0)\n",
            "Requirement already satisfied: pygments<3.0.0,>=2.13.0 in /usr/local/lib/python3.10/dist-packages (from rich->keras) (2.18.0)\n",
            "Requirement already satisfied: mdurl~=0.1 in /usr/local/lib/python3.10/dist-packages (from markdown-it-py>=2.2.0->rich->keras) (0.1.2)\n"
          ]
        }
      ],
      "source": [
        "pip install keras"
      ]
    },
    {
      "cell_type": "markdown",
      "source": [
        "IMPORT LIBRARY YANG DIBUTUHKAN"
      ],
      "metadata": {
        "id": "ujePsP4gbWj0"
      }
    },
    {
      "cell_type": "code",
      "execution_count": null,
      "metadata": {
        "id": "j_BfZnuI7YJO"
      },
      "outputs": [],
      "source": [
        "import os\n",
        "import cv2\n",
        "import numpy as np\n",
        "from tensorflow.keras.models import Sequential\n",
        "from tensorflow.keras.layers import Conv2D, MaxPooling2D, Flatten, Dense, Dropout\n",
        "from tensorflow.keras.preprocessing.image import ImageDataGenerator\n",
        "from tensorflow.keras.optimizers import Adam\n",
        "from tensorflow.keras.applications import MobileNetV2"
      ]
    },
    {
      "cell_type": "markdown",
      "source": [
        "MENGHUBUNGKAN DENGAN GOOGLE DRIVE"
      ],
      "metadata": {
        "id": "1hsqAH_kbas7"
      }
    },
    {
      "cell_type": "code",
      "execution_count": null,
      "metadata": {
        "colab": {
          "base_uri": "https://localhost:8080/"
        },
        "id": "fVkDI6tCvBbD",
        "outputId": "e708982e-dd7c-463f-a5af-07e2a2efce5a"
      },
      "outputs": [
        {
          "name": "stdout",
          "output_type": "stream",
          "text": [
            "Mounted at /content/drive\n"
          ]
        }
      ],
      "source": [
        "from google.colab import drive\n",
        "drive.mount('/content/drive')"
      ]
    },
    {
      "cell_type": "markdown",
      "source": [
        "MEMBACA DATA YANG ADA DI FOLDER"
      ],
      "metadata": {
        "id": "qGH3bsoVbgRk"
      }
    },
    {
      "cell_type": "code",
      "execution_count": null,
      "metadata": {
        "colab": {
          "base_uri": "https://localhost:8080/"
        },
        "id": "8t7esMekvDXn",
        "outputId": "634d61e6-6d07-4e11-fa71-399e9c29b8ab"
      },
      "outputs": [
        {
          "name": "stdout",
          "output_type": "stream",
          "text": [
            "['S', 'W', 'Y', 'V', 'U', 'Q', 'R', 'X', 'Z', 'T', 'I', 'O', 'H', 'M', 'P', 'N', 'L', 'K', 'J', 'G', 'A', 'F', 'D', 'B', 'E', 'C']\n"
          ]
        }
      ],
      "source": [
        "import os\n",
        "\n",
        "# Path ke folder gambar\n",
        "folder_path = '/content/drive/My Drive/Dataset_01/Citra_BISINDO'\n",
        "\n",
        "# List semua file dalam folder\n",
        "file_names = os.listdir(folder_path)\n",
        "print(file_names)"
      ]
    },
    {
      "cell_type": "markdown",
      "source": [
        "MENGHITUNG DATA YANG ADA DI FOLDER"
      ],
      "metadata": {
        "id": "7ZE3jYBfbkYK"
      }
    },
    {
      "cell_type": "code",
      "execution_count": null,
      "metadata": {
        "colab": {
          "base_uri": "https://localhost:8080/"
        },
        "id": "bHFzsEGVvJKW",
        "outputId": "e4c449e6-c4a7-445e-e5f1-460ed72d5144"
      },
      "outputs": [
        {
          "name": "stdout",
          "output_type": "stream",
          "text": [
            "Menghitung file di folder Citra_BISINDO:\n",
            "Folder S memiliki 32 file\n",
            "Folder W memiliki 32 file\n",
            "Folder Y memiliki 32 file\n",
            "Folder V memiliki 32 file\n",
            "Folder U memiliki 32 file\n",
            "Folder Q memiliki 32 file\n",
            "Folder R memiliki 32 file\n",
            "Folder X memiliki 32 file\n",
            "Folder Z memiliki 32 file\n",
            "Folder T memiliki 32 file\n",
            "Folder I memiliki 32 file\n",
            "Folder O memiliki 32 file\n",
            "Folder H memiliki 32 file\n",
            "Folder M memiliki 32 file\n",
            "Folder P memiliki 32 file\n",
            "Folder N memiliki 32 file\n",
            "Folder L memiliki 32 file\n",
            "Folder K memiliki 32 file\n",
            "Folder J memiliki 32 file\n",
            "Folder G memiliki 32 file\n",
            "Folder A memiliki 32 file\n",
            "Folder F memiliki 32 file\n",
            "Folder D memiliki 32 file\n",
            "Folder B memiliki 32 file\n",
            "Folder E memiliki 32 file\n",
            "Folder C memiliki 32 file\n",
            "Total file di folder Citra_BISINDO: 832\n"
          ]
        }
      ],
      "source": [
        "import os\n",
        "\n",
        "# Path ke folder Citra_BISINDO\n",
        "base_path = '/content/drive/My Drive/Dataset_01/Citra_BISINDO'\n",
        "\n",
        "# Fungsi untuk menghitung jumlah file di setiap subfolder\n",
        "def count_files_in_base_folder(folder_path):\n",
        "    total_files = 0\n",
        "    for subfolder_name in os.listdir(folder_path):\n",
        "        subfolder_path = os.path.join(folder_path, subfolder_name)\n",
        "        if os.path.isdir(subfolder_path):\n",
        "            num_files = len(os.listdir(subfolder_path))\n",
        "            print(f\"Folder {subfolder_name} memiliki {num_files} file\")\n",
        "            total_files += num_files\n",
        "    return total_files\n",
        "\n",
        "# Hitung jumlah file\n",
        "print(\"Menghitung file di folder Citra_BISINDO:\")\n",
        "total_files = count_files_in_base_folder(base_path)\n",
        "print(f\"Total file di folder Citra_BISINDO: {total_files}\")\n"
      ]
    },
    {
      "cell_type": "code",
      "execution_count": null,
      "metadata": {
        "colab": {
          "base_uri": "https://localhost:8080/",
          "height": 36
        },
        "id": "8qfEaWYhvLf3",
        "outputId": "bff16d8a-695f-49dd-bf8a-ade619edc46e"
      },
      "outputs": [
        {
          "data": {
            "application/vnd.google.colaboratory.intrinsic+json": {
              "type": "string"
            },
            "text/plain": [
              "'/content/dataset/images'"
            ]
          },
          "execution_count": 7,
          "metadata": {},
          "output_type": "execute_result"
        }
      ],
      "source": [
        "import shutil\n",
        "\n",
        "\n",
        "\n",
        "# Menyalin folder dari Google Drive ke Colab\n",
        "shutil.copytree('/content/drive/My Drive/Dataset_01/images', '/content/dataset/images')"
      ]
    },
    {
      "cell_type": "markdown",
      "source": [
        "MENGUBAH UKURAN GAMBAR DAN MENYIAPKAN UNTUK DI PROSESSING DAN TRAINING"
      ],
      "metadata": {
        "id": "F0aJe5rLb0Pl"
      }
    },
    {
      "cell_type": "code",
      "execution_count": null,
      "metadata": {
        "id": "Jnnet2oQvn0Z"
      },
      "outputs": [],
      "source": [
        "import cv2\n",
        "\n",
        "def resize_images_in_folder(folder_path, target_size=(224, 224)):\n",
        "    # List semua subfolder di dalam folder (misalnya kategori seperti A, B, ...)\n",
        "    categories = os.listdir(folder_path)\n",
        "\n",
        "    for category in categories:\n",
        "        category_path = os.path.join(folder_path, category)\n",
        "\n",
        "        # Pastikan folder kategori tersebut adalah folder, bukan file\n",
        "        if os.path.isdir(category_path):\n",
        "            # List semua file gambar di dalam folder kategori\n",
        "            image_files = [f for f in os.listdir(category_path) if f.endswith(('.jpg', '.png', '.jpeg'))]\n",
        "\n",
        "            for img_file in image_files:\n",
        "                img_path = os.path.join(category_path, img_file)\n",
        "                # Membaca gambar\n",
        "                img = cv2.imread(img_path)\n",
        "                if img is None:\n",
        "                    print(f'Warning: Gagal membaca {img_path}')\n",
        "                    continue\n",
        "                # Resize gambar\n",
        "                img_resized = cv2.resize(img, target_size)\n",
        "                # Simpan gambar yang sudah diresize\n",
        "                cv2.imwrite(img_path, img_resized)\n",
        "\n",
        "# Tentukan path untuk folder train dan val\n",
        "train_folder = '/content/dataset/images/train'\n",
        "val_folder = '/content/dataset/images/val'\n",
        "\n",
        "# Resize gambar di dalam folder train dan val\n",
        "resize_images_in_folder(train_folder)\n",
        "resize_images_in_folder(val_folder)\n"
      ]
    },
    {
      "cell_type": "markdown",
      "source": [
        "MELAKUKAN AUGMENTASI DATA YANG ADA"
      ],
      "metadata": {
        "id": "ON85uq5Kb_7v"
      }
    },
    {
      "cell_type": "code",
      "execution_count": null,
      "metadata": {
        "id": "Ro57ozcz4TdP"
      },
      "outputs": [],
      "source": [
        "# Image data generators\n",
        "train_datagen = ImageDataGenerator(\n",
        "    rescale=1./255,\n",
        "    rotation_range=40,\n",
        "    width_shift_range=0.3,\n",
        "    height_shift_range=0.3,\n",
        "    shear_range=0.3,\n",
        "    zoom_range=0.3,\n",
        "    horizontal_flip=True,\n",
        "    brightness_range=(0.8, 1.2),  # Sesuaikan kecerahan\n",
        "    fill_mode='nearest'\n",
        "\n",
        ")\n"
      ]
    },
    {
      "cell_type": "code",
      "execution_count": null,
      "metadata": {
        "id": "Obcuy6qSwtOF"
      },
      "outputs": [],
      "source": [
        "from tensorflow.keras.preprocessing.image import ImageDataGenerator\n",
        "\n",
        "train_datagen = ImageDataGenerator(\n",
        "    rescale=1./255,\n",
        "    rotation_range=40,\n",
        "    width_shift_range=0.2,\n",
        "    height_shift_range=0.2,\n",
        "    shear_range=0.2,\n",
        "    zoom_range=0.2,\n",
        "    horizontal_flip=True,\n",
        "    fill_mode='nearest'\n",
        ")"
      ]
    },
    {
      "cell_type": "code",
      "execution_count": null,
      "metadata": {
        "colab": {
          "base_uri": "https://localhost:8080/"
        },
        "id": "PF4rCEx17Q5E",
        "outputId": "3ec8dd21-d31b-4c75-f433-bb67eed3eec7"
      },
      "outputs": [
        {
          "name": "stdout",
          "output_type": "stream",
          "text": [
            "Found 572 images belonging to 26 classes.\n",
            "Found 260 images belonging to 26 classes.\n"
          ]
        }
      ],
      "source": [
        "val_datagen = ImageDataGenerator(rescale=1./255)\n",
        "\n",
        "train_generator = train_datagen.flow_from_directory(\n",
        "    train_folder,\n",
        "    target_size=(224, 224),\n",
        "    batch_size=32,\n",
        "    class_mode='categorical'\n",
        ")\n",
        "\n",
        "val_generator = val_datagen.flow_from_directory(\n",
        "    val_folder,\n",
        "    target_size=(224, 224),\n",
        "    batch_size=32,\n",
        "    class_mode='categorical'\n",
        ")\n"
      ]
    },
    {
      "cell_type": "markdown",
      "source": [
        "MENDEFINISIKAN SEBUAH MODEL"
      ],
      "metadata": {
        "id": "L7ZdXRlVcDVp"
      }
    },
    {
      "cell_type": "code",
      "execution_count": null,
      "metadata": {
        "id": "PMVRHTyX2UjM"
      },
      "outputs": [],
      "source": [
        "# Define model using MobileNetV2\n",
        "base_model = MobileNetV2(weights=None, include_top=False, input_shape=(224, 224, 3))\n",
        "model = Sequential([\n",
        "    base_model,\n",
        "    Flatten(),\n",
        "    Dense(128, activation='relu'),\n",
        "    Dropout(0.5),\n",
        "    Dense(train_generator.num_classes, activation='softmax')\n",
        "])\n",
        "\n"
      ]
    },
    {
      "cell_type": "markdown",
      "source": [
        "COMPILE MODEL DENGAN 100 EPOCH"
      ],
      "metadata": {
        "id": "at2MsiB6cFut"
      }
    },
    {
      "cell_type": "code",
      "execution_count": null,
      "metadata": {
        "colab": {
          "background_save": true,
          "base_uri": "https://localhost:8080/"
        },
        "id": "_ZNd8Jd92a3t",
        "outputId": "0c2b7c35-7d44-455c-9c20-866bbf906086"
      },
      "outputs": [
        {
          "name": "stdout",
          "output_type": "stream",
          "text": [
            "Epoch 1/100\n"
          ]
        },
        {
          "name": "stderr",
          "output_type": "stream",
          "text": [
            "/usr/local/lib/python3.10/dist-packages/keras/src/trainers/data_adapters/py_dataset_adapter.py:122: UserWarning: Your `PyDataset` class should call `super().__init__(**kwargs)` in its constructor. `**kwargs` can include `workers`, `use_multiprocessing`, `max_queue_size`. Do not pass these arguments to `fit()`, as they will be ignored.\n",
            "  self._warn_if_super_not_called()\n"
          ]
        },
        {
          "name": "stdout",
          "output_type": "stream",
          "text": [
            "\u001b[1m18/18\u001b[0m \u001b[32m━━━━━━━━━━━━━━━━━━━━\u001b[0m\u001b[37m\u001b[0m \u001b[1m0s\u001b[0m 8s/step - accuracy: 0.0417 - loss: 3.9885\n",
            "Epoch 1: val_loss improved from inf to 3.25810, saving model to model_checkpoint.keras\n",
            "\u001b[1m18/18\u001b[0m \u001b[32m━━━━━━━━━━━━━━━━━━━━\u001b[0m\u001b[37m\u001b[0m \u001b[1m202s\u001b[0m 9s/step - accuracy: 0.0420 - loss: 3.9733 - val_accuracy: 0.0385 - val_loss: 3.2581\n",
            "Epoch 2/100\n",
            "\u001b[1m18/18\u001b[0m \u001b[32m━━━━━━━━━━━━━━━━━━━━\u001b[0m\u001b[37m\u001b[0m \u001b[1m0s\u001b[0m 8s/step - accuracy: 0.0238 - loss: 3.2525\n",
            "Epoch 2: val_loss improved from 3.25810 to 3.25810, saving model to model_checkpoint.keras\n",
            "\u001b[1m18/18\u001b[0m \u001b[32m━━━━━━━━━━━━━━━━━━━━\u001b[0m\u001b[37m\u001b[0m \u001b[1m187s\u001b[0m 8s/step - accuracy: 0.0240 - loss: 3.2527 - val_accuracy: 0.0385 - val_loss: 3.2581\n",
            "Epoch 3/100\n",
            "\u001b[1m18/18\u001b[0m \u001b[32m━━━━━━━━━━━━━━━━━━━━\u001b[0m\u001b[37m\u001b[0m \u001b[1m0s\u001b[0m 7s/step - accuracy: 0.0437 - loss: 3.2571\n",
            "Epoch 3: val_loss did not improve from 3.25810\n",
            "\u001b[1m18/18\u001b[0m \u001b[32m━━━━━━━━━━━━━━━━━━━━\u001b[0m\u001b[37m\u001b[0m \u001b[1m196s\u001b[0m 8s/step - accuracy: 0.0430 - loss: 3.2573 - val_accuracy: 0.0385 - val_loss: 3.2581\n",
            "Epoch 4/100\n",
            "\u001b[1m18/18\u001b[0m \u001b[32m━━━━━━━━━━━━━━━━━━━━\u001b[0m\u001b[37m\u001b[0m \u001b[1m0s\u001b[0m 7s/step - accuracy: 0.0395 - loss: 3.2564\n",
            "Epoch 4: val_loss improved from 3.25810 to 3.25810, saving model to model_checkpoint.keras\n",
            "\u001b[1m18/18\u001b[0m \u001b[32m━━━━━━━━━━━━━━━━━━━━\u001b[0m\u001b[37m\u001b[0m \u001b[1m144s\u001b[0m 8s/step - accuracy: 0.0392 - loss: 3.2564 - val_accuracy: 0.0385 - val_loss: 3.2581\n",
            "Epoch 5/100\n",
            "\u001b[1m18/18\u001b[0m \u001b[32m━━━━━━━━━━━━━━━━━━━━\u001b[0m\u001b[37m\u001b[0m \u001b[1m0s\u001b[0m 7s/step - accuracy: 0.0190 - loss: 3.2581\n",
            "Epoch 5: val_loss did not improve from 3.25810\n",
            "\u001b[1m18/18\u001b[0m \u001b[32m━━━━━━━━━━━━━━━━━━━━\u001b[0m\u001b[37m\u001b[0m \u001b[1m203s\u001b[0m 8s/step - accuracy: 0.0193 - loss: 3.2581 - val_accuracy: 0.0385 - val_loss: 3.2581\n",
            "Epoch 6/100\n",
            "\u001b[1m18/18\u001b[0m \u001b[32m━━━━━━━━━━━━━━━━━━━━\u001b[0m\u001b[37m\u001b[0m \u001b[1m0s\u001b[0m 7s/step - accuracy: 0.0182 - loss: 3.2581\n",
            "Epoch 6: val_loss did not improve from 3.25810\n",
            "\u001b[1m18/18\u001b[0m \u001b[32m━━━━━━━━━━━━━━━━━━━━\u001b[0m\u001b[37m\u001b[0m \u001b[1m203s\u001b[0m 8s/step - accuracy: 0.0185 - loss: 3.2581 - val_accuracy: 0.0385 - val_loss: 3.2581\n",
            "Epoch 7/100\n",
            "\u001b[1m18/18\u001b[0m \u001b[32m━━━━━━━━━━━━━━━━━━━━\u001b[0m\u001b[37m\u001b[0m \u001b[1m0s\u001b[0m 7s/step - accuracy: 0.0460 - loss: 3.2581\n",
            "Epoch 7: val_loss did not improve from 3.25810\n",
            "\u001b[1m18/18\u001b[0m \u001b[32m━━━━━━━━━━━━━━━━━━━━\u001b[0m\u001b[37m\u001b[0m \u001b[1m201s\u001b[0m 8s/step - accuracy: 0.0456 - loss: 3.2581 - val_accuracy: 0.0385 - val_loss: 3.2581\n",
            "Epoch 8/100\n",
            "\u001b[1m18/18\u001b[0m \u001b[32m━━━━━━━━━━━━━━━━━━━━\u001b[0m\u001b[37m\u001b[0m \u001b[1m0s\u001b[0m 7s/step - accuracy: 0.0319 - loss: 3.2581\n",
            "Epoch 8: val_loss did not improve from 3.25810\n",
            "\u001b[1m18/18\u001b[0m \u001b[32m━━━━━━━━━━━━━━━━━━━━\u001b[0m\u001b[37m\u001b[0m \u001b[1m154s\u001b[0m 8s/step - accuracy: 0.0319 - loss: 3.2581 - val_accuracy: 0.0385 - val_loss: 3.2581\n",
            "Epoch 9/100\n",
            "\u001b[1m18/18\u001b[0m \u001b[32m━━━━━━━━━━━━━━━━━━━━\u001b[0m\u001b[37m\u001b[0m \u001b[1m0s\u001b[0m 7s/step - accuracy: 0.0365 - loss: 3.2581\n",
            "Epoch 9: val_loss did not improve from 3.25810\n",
            "\u001b[1m18/18\u001b[0m \u001b[32m━━━━━━━━━━━━━━━━━━━━\u001b[0m\u001b[37m\u001b[0m \u001b[1m195s\u001b[0m 8s/step - accuracy: 0.0360 - loss: 3.2581 - val_accuracy: 0.0385 - val_loss: 3.2581\n",
            "Epoch 10/100\n",
            "\u001b[1m18/18\u001b[0m \u001b[32m━━━━━━━━━━━━━━━━━━━━\u001b[0m\u001b[37m\u001b[0m \u001b[1m0s\u001b[0m 7s/step - accuracy: 0.0378 - loss: 3.2581\n",
            "Epoch 10: val_loss did not improve from 3.25810\n",
            "\u001b[1m18/18\u001b[0m \u001b[32m━━━━━━━━━━━━━━━━━━━━\u001b[0m\u001b[37m\u001b[0m \u001b[1m199s\u001b[0m 8s/step - accuracy: 0.0377 - loss: 3.2581 - val_accuracy: 0.0385 - val_loss: 3.2581\n",
            "Epoch 11/100\n",
            "\u001b[1m18/18\u001b[0m \u001b[32m━━━━━━━━━━━━━━━━━━━━\u001b[0m\u001b[37m\u001b[0m \u001b[1m0s\u001b[0m 8s/step - accuracy: 0.0426 - loss: 3.2581\n",
            "Epoch 11: val_loss did not improve from 3.25810\n",
            "\u001b[1m18/18\u001b[0m \u001b[32m━━━━━━━━━━━━━━━━━━━━\u001b[0m\u001b[37m\u001b[0m \u001b[1m212s\u001b[0m 8s/step - accuracy: 0.0424 - loss: 3.2581 - val_accuracy: 0.0385 - val_loss: 3.2581\n",
            "Epoch 12/100\n",
            "\u001b[1m18/18\u001b[0m \u001b[32m━━━━━━━━━━━━━━━━━━━━\u001b[0m\u001b[37m\u001b[0m \u001b[1m0s\u001b[0m 7s/step - accuracy: 0.0503 - loss: 3.2581\n",
            "Epoch 12: val_loss did not improve from 3.25810\n",
            "\u001b[1m18/18\u001b[0m \u001b[32m━━━━━━━━━━━━━━━━━━━━\u001b[0m\u001b[37m\u001b[0m \u001b[1m196s\u001b[0m 8s/step - accuracy: 0.0495 - loss: 3.2581 - val_accuracy: 0.0385 - val_loss: 3.2581\n",
            "Epoch 13/100\n",
            "\u001b[1m18/18\u001b[0m \u001b[32m━━━━━━━━━━━━━━━━━━━━\u001b[0m\u001b[37m\u001b[0m \u001b[1m0s\u001b[0m 7s/step - accuracy: 0.0381 - loss: 3.2581\n",
            "Epoch 13: val_loss improved from 3.25810 to 3.25810, saving model to model_checkpoint.keras\n",
            "\u001b[1m18/18\u001b[0m \u001b[32m━━━━━━━━━━━━━━━━━━━━\u001b[0m\u001b[37m\u001b[0m \u001b[1m158s\u001b[0m 9s/step - accuracy: 0.0381 - loss: 3.2581 - val_accuracy: 0.0385 - val_loss: 3.2581\n",
            "Epoch 14/100\n",
            "\u001b[1m18/18\u001b[0m \u001b[32m━━━━━━━━━━━━━━━━━━━━\u001b[0m\u001b[37m\u001b[0m \u001b[1m0s\u001b[0m 8s/step - accuracy: 0.0424 - loss: 3.2581\n",
            "Epoch 14: val_loss did not improve from 3.25810\n",
            "\u001b[1m18/18\u001b[0m \u001b[32m━━━━━━━━━━━━━━━━━━━━\u001b[0m\u001b[37m\u001b[0m \u001b[1m212s\u001b[0m 9s/step - accuracy: 0.0422 - loss: 3.2581 - val_accuracy: 0.0385 - val_loss: 3.2581\n",
            "Epoch 15/100\n",
            "\u001b[1m18/18\u001b[0m \u001b[32m━━━━━━━━━━━━━━━━━━━━\u001b[0m\u001b[37m\u001b[0m \u001b[1m0s\u001b[0m 7s/step - accuracy: 0.0485 - loss: 3.2580\n",
            "Epoch 15: val_loss did not improve from 3.25810\n",
            "\u001b[1m18/18\u001b[0m \u001b[32m━━━━━━━━━━━━━━━━━━━━\u001b[0m\u001b[37m\u001b[0m \u001b[1m159s\u001b[0m 9s/step - accuracy: 0.0480 - loss: 3.2580 - val_accuracy: 0.0385 - val_loss: 3.2581\n",
            "Epoch 16/100\n",
            "\u001b[1m18/18\u001b[0m \u001b[32m━━━━━━━━━━━━━━━━━━━━\u001b[0m\u001b[37m\u001b[0m \u001b[1m0s\u001b[0m 8s/step - accuracy: 0.0175 - loss: 3.2581\n",
            "Epoch 16: val_loss did not improve from 3.25810\n",
            "\u001b[1m18/18\u001b[0m \u001b[32m━━━━━━━━━━━━━━━━━━━━\u001b[0m\u001b[37m\u001b[0m \u001b[1m154s\u001b[0m 8s/step - accuracy: 0.0179 - loss: 3.2581 - val_accuracy: 0.0385 - val_loss: 3.2581\n",
            "Epoch 17/100\n",
            "\u001b[1m18/18\u001b[0m \u001b[32m━━━━━━━━━━━━━━━━━━━━\u001b[0m\u001b[37m\u001b[0m \u001b[1m0s\u001b[0m 7s/step - accuracy: 0.0339 - loss: 3.2581\n",
            "Epoch 17: val_loss did not improve from 3.25810\n",
            "\u001b[1m18/18\u001b[0m \u001b[32m━━━━━━━━━━━━━━━━━━━━\u001b[0m\u001b[37m\u001b[0m \u001b[1m199s\u001b[0m 8s/step - accuracy: 0.0341 - loss: 3.2581 - val_accuracy: 0.0385 - val_loss: 3.2581\n",
            "Epoch 18/100\n",
            "\u001b[1m18/18\u001b[0m \u001b[32m━━━━━━━━━━━━━━━━━━━━\u001b[0m\u001b[37m\u001b[0m \u001b[1m0s\u001b[0m 7s/step - accuracy: 0.0362 - loss: 3.2581\n",
            "Epoch 18: val_loss did not improve from 3.25810\n",
            "\u001b[1m18/18\u001b[0m \u001b[32m━━━━━━━━━━━━━━━━━━━━\u001b[0m\u001b[37m\u001b[0m \u001b[1m158s\u001b[0m 8s/step - accuracy: 0.0363 - loss: 3.2581 - val_accuracy: 0.0385 - val_loss: 3.2581\n",
            "Epoch 19/100\n",
            "\u001b[1m18/18\u001b[0m \u001b[32m━━━━━━━━━━━━━━━━━━━━\u001b[0m\u001b[37m\u001b[0m \u001b[1m0s\u001b[0m 8s/step - accuracy: 0.0375 - loss: 3.2581\n",
            "Epoch 19: val_loss did not improve from 3.25810\n",
            "\u001b[1m18/18\u001b[0m \u001b[32m━━━━━━━━━━━━━━━━━━━━\u001b[0m\u001b[37m\u001b[0m \u001b[1m160s\u001b[0m 9s/step - accuracy: 0.0376 - loss: 3.2581 - val_accuracy: 0.0385 - val_loss: 3.2581\n",
            "Epoch 20/100\n",
            "\u001b[1m14/18\u001b[0m \u001b[32m━━━━━━━━━━━━━━━\u001b[0m\u001b[37m━━━━━\u001b[0m \u001b[1m29s\u001b[0m 7s/step - accuracy: 0.0365 - loss: 3.2581"
          ]
        }
      ],
      "source": [
        "from tensorflow.keras.models import Sequential\n",
        "from tensorflow.keras.layers import Dense\n",
        "from tensorflow.keras.optimizers import Adam\n",
        "from tensorflow.keras.callbacks import ModelCheckpoint\n",
        "\n",
        "\n",
        "# Compile the model\n",
        "model.compile(\n",
        "    optimizer=Adam(learning_rate=0.0001),  # Menggunakan learning rate lebih kecil\n",
        "    loss='categorical_crossentropy',\n",
        "    metrics=['accuracy']\n",
        ")\n",
        "\n",
        "\n",
        "checkpoint = ModelCheckpoint(\n",
        "    filepath='model_checkpoint.keras',\n",
        "    monitor='val_loss',\n",
        "    save_best_only=True,\n",
        "    save_weights_only=False,\n",
        "    mode='min',\n",
        "    verbose=1\n",
        ")\n",
        "\n",
        "\n",
        "\n",
        "# Train the model\n",
        "history = model.fit(\n",
        "    train_generator,\n",
        "    epochs=100,\n",
        "    validation_data=val_generator,\n",
        "    callbacks=[checkpoint]\n",
        ")\n",
        "\n"
      ]
    },
    {
      "cell_type": "markdown",
      "source": [
        "MEMBUAT GRAFIK HUBUNGAN TRAI DAN VAL"
      ],
      "metadata": {
        "id": "zf_9wUaYcKj7"
      }
    },
    {
      "cell_type": "code",
      "execution_count": null,
      "metadata": {
        "id": "WZ8mR562_nQu"
      },
      "outputs": [],
      "source": [
        "def plot_loss_acc(history):\n",
        "    '''Plots the training and validation loss and accuracy from a history object'''\n",
        "    acc = history.history['accuracy']\n",
        "    val_acc = history.history['val_accuracy']\n",
        "    loss = history.history['loss']\n",
        "    val_loss = history.history['val_loss']\n",
        "\n",
        "    epochs = range(len(acc))\n",
        "\n",
        "    fig, ax = plt.subplots(1,2, figsize=(12, 6))\n",
        "    ax[0].plot(epochs, acc, 'bo', label='Training accuracy')\n",
        "    ax[0].plot(epochs, val_acc, 'b', label='Validation accuracy')\n",
        "    ax[0].set_title('Training and validation accuracy')\n",
        "    ax[0].set_xlabel('epochs')\n",
        "    ax[0].set_ylabel('accuracy')\n",
        "    ax[0].legend()\n",
        "\n",
        "    ax[1].plot(epochs, loss, 'bo', label='Training Loss')\n",
        "    ax[1].plot(epochs, val_loss, 'b', label='Validation Loss')\n",
        "    ax[1].set_title('Training and validation loss')\n",
        "    ax[1].set_xlabel('epochs')\n",
        "    ax[1].set_ylabel('loss')\n",
        "    ax[1].legend()\n",
        "\n",
        "    plt.show()"
      ]
    },
    {
      "cell_type": "code",
      "execution_count": null,
      "metadata": {
        "colab": {
          "base_uri": "https://localhost:8080/",
          "height": 564
        },
        "id": "KVaGm1zK_ppx",
        "outputId": "d63142e2-21e5-4144-91b8-fff6d81ff867"
      },
      "outputs": [
        {
          "data": {
            "image/png": "[encoded data removed]",
            "text/plain": [
              "<Figure size 1200x600 with 2 Axes>"
            ]
          },
          "metadata": {},
          "output_type": "display_data"
        }
      ],
      "source": [
        "import matplotlib.pyplot as plt\n",
        "plot_loss_acc(history)"
      ]
    },
    {
      "cell_type": "code",
      "execution_count": null,
      "metadata": {
        "colab": {
          "base_uri": "https://localhost:8080/"
        },
        "id": "sZodo3NDWHPc",
        "outputId": "2561895d-c2c7-4ce3-b977-aee64c75e74b"
      },
      "outputs": [
        {
          "name": "stderr",
          "output_type": "stream",
          "text": [
            "WARNING:tensorflow:6 out of the last 13 calls to <function TensorFlowTrainer.make_predict_function.<locals>.one_step_on_data_distributed at 0x7f2c42659cf0> triggered tf.function retracing. Tracing is expensive and the excessive number of tracings could be due to (1) creating @tf.function repeatedly in a loop, (2) passing tensors with different shapes, (3) passing Python objects instead of tensors. For (1), please define your @tf.function outside of the loop. For (2), @tf.function has reduce_retracing=True option that can avoid unnecessary retracing. For (3), please refer to https://www.tensorflow.org/guide/function#controlling_retracing and https://www.tensorflow.org/api_docs/python/tf/function for  more details.\n"
          ]
        },
        {
          "name": "stdout",
          "output_type": "stream",
          "text": [
            "\u001b[1m1/1\u001b[0m \u001b[32m━━━━━━━━━━━━━━━━━━━━\u001b[0m\u001b[37m\u001b[0m \u001b[1m2s\u001b[0m 2s/step\n",
            "Prediksi:  C\n"
          ]
        }
      ],
      "source": [
        "import tensorflow as tf\n",
        "from tensorflow.keras.preprocessing.image import load_img, img_to_array\n",
        "import numpy as np\n",
        "\n",
        "# Muat model yang sudah dilatih\n",
        "model = tf.keras.models.load_model('model_checkpoint.keras')\n",
        "\n",
        "# Fungsi untuk memproses gambar dan melakukan prediksi\n",
        "def predict_image(img_path):\n",
        "  # Memuat gambar\n",
        "  img = load_img(img_path, target_size=(224, 224))  # Sesuaikan ukuran jika perlu\n",
        "  x = img_to_array(img)\n",
        "  x = np.expand_dims(x, axis=0)\n",
        "  x /= 255.0\n",
        "\n",
        "  # Melakukan prediksi\n",
        "  prediction = model.predict(x)\n",
        "  class_index = np.argmax(prediction)\n",
        "\n",
        "  # Asumsikan Anda memiliki list label kelas\n",
        "  class_labels = ['A', 'B', 'C', 'D', 'E', 'F', 'G', 'H', 'I', 'J', 'K', 'L', 'M', 'N', 'O', 'P', 'Q', 'R', 'S', 'T', 'U', 'V', 'W', 'X', 'Y', 'Z']  # Ganti dengan label kelas Anda\n",
        "\n",
        "  # Mengembalikan prediksi\n",
        "  return class_labels[class_index]\n",
        "\n",
        "# Contoh penggunaan\n",
        "uploaded_image_path = '/content/ujicoba/GambarA.jpg'  # Ganti dengan path gambar Anda\n",
        "predicted_class = predict_image(uploaded_image_path)\n",
        "\n",
        "print(\"Prediksi: \", predicted_class)"
      ]
    }
  ],
  "metadata": {
    "accelerator": "GPU",
    "colab": {
      "gpuType": "T4",
      "provenance": []
    },
    "kernelspec": {
      "display_name": "Python 3",
      "name": "python3"
    },
    "language_info": {
      "name": "python"
    }
  },
  "nbformat": 4,
  "nbformat_minor": 0
}